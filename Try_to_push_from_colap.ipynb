{
  "nbformat": 4,
  "nbformat_minor": 0,
  "metadata": {
    "colab": {
      "provenance": [],
      "authorship_tag": "ABX9TyOeuHz1Ee+2u+N01hm21YtW",
      "include_colab_link": true
    },
    "kernelspec": {
      "name": "python3",
      "display_name": "Python 3"
    },
    "language_info": {
      "name": "python"
    }
  },
  "cells": [
    {
      "cell_type": "markdown",
      "metadata": {
        "id": "view-in-github",
        "colab_type": "text"
      },
      "source": [
        "<a href=\"https://colab.research.google.com/github/asmaa-aljazzar/python_course_Assignments/blob/main/Try_to_push_from_colap.ipynb\" target=\"_parent\"><img src=\"https://colab.research.google.com/assets/colab-badge.svg\" alt=\"Open In Colab\"/></a>"
      ]
    },
    {
      "cell_type": "code",
      "source": [
        "import pandas as pd\n",
        "import gradio as gr\n",
        "from sklearn.model_selection import train_test_split\n",
        "from sklearn.linear_model import LinearRegression\n",
        "\n",
        "df = pd.read_csv(\"Student_Performance.csv\")\n",
        "df.drop_duplicates(inplace=True)\n",
        "df.dropna(inplace=True)\n",
        "\n",
        "df['Extracurricular Activities'] = df['Extracurricular Activities'].map({'Yes': 1, 'No': 0})\n",
        "\n",
        "X = df.drop('Performance Index', axis=1)\n",
        "y = df['Performance Index']\n",
        "\n",
        "x_train, x_test, y_train, y_test = train_test_split(X, y, test_size=0.2, random_state=42)\n",
        "\n",
        "model = LinearRegression()\n",
        "model.fit(x_train, y_train)\n",
        "\n",
        "def predict_performance(hours_studied, previous_scores, activities, sleep_hours, papers_practiced):\n",
        "    try:\n",
        "        hours_studied = float(hours_studied)\n",
        "        previous_scores = float(previous_scores)\n",
        "        if activities.lower() == \"yes\":\n",
        "          activities = 1\n",
        "        else:\n",
        "           activities=0\n",
        "        sleep_hours = float(sleep_hours)\n",
        "        papers_practiced = float(papers_practiced)\n",
        "\n",
        "        result = float(model.predict([[hours_studied, previous_scores, activities, sleep_hours, papers_practiced]]))\n",
        "        return round(min(max(result, 0), 100), 1)\n",
        "    except:\n",
        "        return \"invalid input try again\"\n",
        "\n",
        "interface = gr.Interface(\n",
        "    fn=predict_performance,\n",
        "    inputs=[\n",
        "        gr.Textbox(label=\"Hours Studied\"),\n",
        "        gr.Textbox(label=\"Previous Scores\"),\n",
        "        gr.Textbox(label=\"Extracurricular Activities (Yes/No)\"),\n",
        "        gr.Textbox(label=\"Sleep Hours\"),\n",
        "        gr.Textbox(label=\"Sample Question Papers Practiced\")\n",
        "    ],\n",
        "    outputs=gr.Number(label=\"Predicted Performance Index\"),\n",
        "    title=\"Student Performance Predictor\"\n",
        ")\n",
        "\n",
        "interface.launch(share=True)\n"
      ],
      "metadata": {
        "colab": {
          "base_uri": "https://localhost:8080/",
          "height": 611
        },
        "id": "CkwWCWXzFIih",
        "outputId": "f97b6ee8-f78a-4de8-b532-ba949ae59330"
      },
      "execution_count": null,
      "outputs": [
        {
          "output_type": "stream",
          "name": "stdout",
          "text": [
            "Colab notebook detected. To show errors in colab notebook, set debug=True in launch()\n",
            "* Running on public URL: https://a84a276005f16e7910.gradio.live\n",
            "\n",
            "This share link expires in 1 week. For free permanent hosting and GPU upgrades, run `gradio deploy` from the terminal in the working directory to deploy to Hugging Face Spaces (https://huggingface.co/spaces)\n"
          ]
        },
        {
          "output_type": "display_data",
          "data": {
            "text/plain": [
              "<IPython.core.display.HTML object>"
            ],
            "text/html": [
              "<div><iframe src=\"https://a84a276005f16e7910.gradio.live\" width=\"100%\" height=\"500\" allow=\"autoplay; camera; microphone; clipboard-read; clipboard-write;\" frameborder=\"0\" allowfullscreen></iframe></div>"
            ]
          },
          "metadata": {}
        },
        {
          "output_type": "execute_result",
          "data": {
            "text/plain": []
          },
          "metadata": {},
          "execution_count": 1
        }
      ]
    },
    {
      "cell_type": "code",
      "source": [],
      "metadata": {
        "id": "dmRFUqbjf7Lu"
      },
      "execution_count": null,
      "outputs": []
    }
  ]
}